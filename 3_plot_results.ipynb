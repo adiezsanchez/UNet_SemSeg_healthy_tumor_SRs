{
 "cells": [
  {
   "cell_type": "code",
   "execution_count": 2,
   "metadata": {},
   "outputs": [],
   "source": [
    "from pathlib import Path\n",
    "import tifffile\n",
    "import numpy as np\n",
    "import matplotlib.pyplot as plt\n"
   ]
  },
  {
   "cell_type": "code",
   "execution_count": 3,
   "metadata": {},
   "outputs": [
    {
     "data": {
      "text/plain": [
       "[WindowsPath('prediction_tiffs/model_gfp_dapi_bcat_lsd1_epoch_100/1742I_10X_OP_LGR5GFP_BCAT_DAPI_LSD1_HQ.tiff'),\n",
       " WindowsPath('prediction_tiffs/model_gfp_dapi_bcat_lsd1_epoch_100/1743I_10X_OP_LGR5GFP_BCAT_DAPI_LSD1_HQ.tiff'),\n",
       " WindowsPath('prediction_tiffs/model_gfp_dapi_bcat_lsd1_epoch_100/1799I_10X_OP_LGR5GFP_BCAT_DAPI_LSD1_HQ.tiff'),\n",
       " WindowsPath('prediction_tiffs/model_gfp_dapi_bcat_lsd1_epoch_100/1800I_10X_OP_LGR5GFP_BCAT_DAPI_LSD1_HQ.tiff'),\n",
       " WindowsPath('prediction_tiffs/model_gfp_dapi_bcat_lsd1_epoch_100/1801I_10X_OP_LGR5GFP_BCAT_DAPI_LSD1_HQ.tiff'),\n",
       " WindowsPath('prediction_tiffs/model_gfp_dapi_bcat_lsd1_epoch_100/1837I_10X_OP_LGR5GFP_BCAT_DAPI_LSD1_HQ.tiff'),\n",
       " WindowsPath('prediction_tiffs/model_gfp_dapi_bcat_lsd1_epoch_100/1838I_10X_OP_LGR5GFP_BCAT_DAPI_LSD1_HQ.tiff'),\n",
       " WindowsPath('prediction_tiffs/model_gfp_dapi_bcat_lsd1_epoch_100/1849I_10X_OP_LGR5GFP_BCAT_DAPI_LSD1_HQ.tiff'),\n",
       " WindowsPath('prediction_tiffs/model_gfp_dapi_bcat_lsd1_epoch_100/1850I_10X_OP_LGR5GFP_BCAT_DAPI_LSD1_HQ.tiff'),\n",
       " WindowsPath('prediction_tiffs/model_gfp_dapi_bcat_lsd1_epoch_100/1851I_10X_OP_LGR5GFP_BCAT_DAPI_LSD1_HQ.tiff'),\n",
       " WindowsPath('prediction_tiffs/model_gfp_dapi_bcat_lsd1_epoch_100/1852I_10X_OP_LGR5GFP_BCAT_DAPI_LSD1_HQ.tiff'),\n",
       " WindowsPath('prediction_tiffs/model_gfp_dapi_bcat_lsd1_epoch_100/1853I_10X_OP_LGR5GFP_BCAT_DAPI_LSD1_HQ.tiff')]"
      ]
     },
     "execution_count": 3,
     "metadata": {},
     "output_type": "execute_result"
    }
   ],
   "source": [
    "# Define the model_name and hence the class predictions you want to explore\n",
    "model_name = 'model_gfp_dapi_bcat_lsd1_epoch_100'\n",
    "prediction_tiff_directory = f\"prediction_tiffs/{model_name}\"\n",
    "\n",
    "# Add the filepaths to the predicted class .tiffs to a list\n",
    "f_classes = sorted(Path(prediction_tiff_directory).glob(\"*.tiff\"))\n",
    "\n",
    "f_classes"
   ]
  },
  {
   "cell_type": "code",
   "execution_count": 4,
   "metadata": {},
   "outputs": [
    {
     "name": "stdout",
     "output_type": "stream",
     "text": [
      "1742I\n",
      "1743I\n",
      "1799I\n",
      "1800I\n",
      "1801I\n",
      "1837I\n",
      "1838I\n",
      "1849I\n",
      "1850I\n",
      "1851I\n",
      "1852I\n",
      "1853I\n"
     ]
    }
   ],
   "source": [
    "for filepath in f_classes:\n",
    "    # Extract filename and sample_id from Path object\n",
    "    filename = filepath.name\n",
    "    sample_id = filename.split(\"_\")[0]\n",
    "    # Read the .tiff file\n",
    "    predicted_classes = tifffile.imread(filepath)\n",
    "    print(sample_id)"
   ]
  },
  {
   "cell_type": "code",
   "execution_count": 5,
   "metadata": {},
   "outputs": [],
   "source": [
    "filepath = f_classes[1]\n",
    "\n",
    "# Extract filename and sample_id from Path object\n",
    "filename = filepath.name\n",
    "sample_id = filename.split(\"_\")[0]\n",
    "# Read the .tiff file\n",
    "predicted_classes = tifffile.imread(filepath)\n",
    "\n",
    "\n"
   ]
  },
  {
   "cell_type": "code",
   "execution_count": 12,
   "metadata": {},
   "outputs": [],
   "source": [
    "# Extract tumor and background classes as separate arrays\n",
    "tumor_class = predicted_classes == 2\n",
    "healthy_class = predicted_classes == 1\n",
    "\n",
    "# "
   ]
  },
  {
   "cell_type": "code",
   "execution_count": 13,
   "metadata": {},
   "outputs": [
    {
     "name": "stderr",
     "output_type": "stream",
     "text": [
      "WARNING: QWindowsWindow::setGeometry: Unable to set geometry 853x533-1315+740 (frame: 869x572-1323+709) on QWidgetWindow/\"_QtMainWindowClassWindow\" on \"\\\\.\\DISPLAY3\". Resulting geometry: 567x650-1318+726 (frame: 583x689-1326+695) margins: 8, 31, 8, 8 minimum size: 385x489 MINMAXINFO maxSize=0,0 maxpos=0,0 mintrack=401,528 maxtrack=0,0)\n"
     ]
    },
    {
     "data": {
      "text/plain": [
       "<Image layer 'healthy_class' at 0x24aeea92730>"
      ]
     },
     "execution_count": 13,
     "metadata": {},
     "output_type": "execute_result"
    }
   ],
   "source": [
    "import napari\n",
    "viewer = napari.Viewer(ndisplay=2)\n",
    "\n",
    "viewer.add_image(tumor_class)\n",
    "viewer.add_image(healthy_class)"
   ]
  }
 ],
 "metadata": {
  "kernelspec": {
   "display_name": "EMBL_tensorflow",
   "language": "python",
   "name": "python3"
  },
  "language_info": {
   "codemirror_mode": {
    "name": "ipython",
    "version": 3
   },
   "file_extension": ".py",
   "mimetype": "text/x-python",
   "name": "python",
   "nbconvert_exporter": "python",
   "pygments_lexer": "ipython3",
   "version": "3.9.19"
  }
 },
 "nbformat": 4,
 "nbformat_minor": 2
}

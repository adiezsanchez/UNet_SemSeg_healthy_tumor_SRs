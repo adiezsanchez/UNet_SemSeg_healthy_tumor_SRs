{
 "cells": [
  {
   "cell_type": "code",
   "execution_count": null,
   "id": "8607e966",
   "metadata": {},
   "outputs": [],
   "source": [
    "#import os \n",
    "# Tensorboard config\n",
    "# workaround for missing tensorboard\n",
    "#!pip install tensorboard\n",
    "#os.environ['TENSORBOARD_BINARY'] = os.path.expanduser('~/.local/bin/tensorboard')\n",
    "# Import and load tensorboard\n",
    "%load_ext tensorboard"
   ]
  },
  {
   "cell_type": "code",
   "execution_count": 8,
   "id": "212a832a-80ec-48fd-bbba-e63fddd546bd",
   "metadata": {},
   "outputs": [
    {
     "data": {
      "text/html": [
       "\n",
       "      <iframe id=\"tensorboard-frame-2ba96ed796aa6213\" width=\"100%\" height=\"800\" frameborder=\"0\">\n",
       "      </iframe>\n",
       "      <script>\n",
       "        (function() {\n",
       "          const frame = document.getElementById(\"tensorboard-frame-2ba96ed796aa6213\");\n",
       "          const url = new URL(\"/\", window.location);\n",
       "          const port = 43354;\n",
       "          if (port) {\n",
       "            url.port = port;\n",
       "          }\n",
       "          frame.src = url;\n",
       "        })();\n",
       "      </script>\n",
       "    "
      ],
      "text/plain": [
       "<IPython.core.display.HTML object>"
      ]
     },
     "metadata": {},
     "output_type": "display_data"
    }
   ],
   "source": [
    "%tensorboard --port 43354 --logdir=models"
   ]
  },
  {
   "cell_type": "code",
   "execution_count": 6,
   "id": "818a8272-85f6-408f-a0fb-d37d9bb0cd2c",
   "metadata": {},
   "outputs": [
    {
     "name": "stdout",
     "output_type": "stream",
     "text": [
      "/bin/bash: /opt/conda/envs/dl-mw-py39/lib/libtinfo.so.6: no version information available (required by /bin/bash)\n"
     ]
    }
   ],
   "source": [
    "!kill 9783"
   ]
  },
  {
   "cell_type": "code",
   "execution_count": null,
   "id": "4c74aa4f-250c-4144-a652-23362e77b1dc",
   "metadata": {},
   "outputs": [],
   "source": []
  }
 ],
 "metadata": {
  "kernelspec": {
   "display_name": "DL for Image Analysis(Keras)",
   "language": "python",
   "name": "dl-mw-py39"
  },
  "language_info": {
   "codemirror_mode": {
    "name": "ipython",
    "version": 3
   },
   "file_extension": ".py",
   "mimetype": "text/x-python",
   "name": "python",
   "nbconvert_exporter": "python",
   "pygments_lexer": "ipython3",
   "version": "3.9.7"
  }
 },
 "nbformat": 4,
 "nbformat_minor": 5
}
